{
 "cells": [
  {
   "cell_type": "code",
   "execution_count": 39,
   "metadata": {},
   "outputs": [],
   "source": [
    "import numpy as np\n",
    "import pandas as pd\n",
    "from pandas_datareader import data as wb\n",
    "import matplotlib.pyplot as plt\n",
    "%matplotlib inline"
   ]
  },
  {
   "cell_type": "markdown",
   "metadata": {},
   "source": [
    "# Resultados algoritmo de genético - 2017 até 2019"
   ]
  },
  {
   "cell_type": "code",
   "execution_count": 62,
   "metadata": {},
   "outputs": [],
   "source": [
    "assets = ['BBAS3.SA', 'BBDC3.SA', 'BRFS3.SA', 'BRKM5.SA', 'BTOW3.SA', 'CIEL3.SA', 'CVCB3.SA','ECOR3.SA', 'ELET3.SA', 'ELET6.SA', 'ENBR3.SA', 'FLRY3.SA','GGBR4.SA', 'GOAU4.SA', 'HYPE3.SA', 'ITUB4.SA', 'JBSS3.SA', 'LREN3.SA', 'MGLU3.SA', 'MRVE3.SA','PCAR4.SA', 'PETR4.SA', 'RADL3.SA', 'SANB11.SA', 'SBSP3.SA','VIVT4.SA']\n",
    "pf_data = pd.DataFrame()\n",
    "\n",
    "for a in assets:\n",
    "    pf_data[a] = wb.DataReader(a, data_source = 'yahoo', start='2017-1', end='2019-1')['Adj Close']"
   ]
  },
  {
   "cell_type": "code",
   "execution_count": 63,
   "metadata": {},
   "outputs": [],
   "source": [
    "weights = np.array([0.06005738854178855, 0.03931946189840563, 0.043347212958986865, 0.048409430132820425, 0.006544691057317281, 0.01849529054967086, 0.04616846931207718, 0.01635267470909257, 0.0489084956704781, 0.05864385576509984, 0.06538381186437672, 0.058956830490102696, 0.014702975780071433, 0.013174608581641557, 0.01260267947076522, 0.0765169024708064, 0.015455259061270831, 0.0485634241783128, 0.04251872281956767, 0.011742135934311702, 0.0033760504455385594, 0.04223154344739062, 0.087418336944782, 0.004659028328204133, 0.060420715296147384, 0.056030004290972886])"
   ]
  },
  {
   "cell_type": "code",
   "execution_count": 64,
   "metadata": {},
   "outputs": [
    {
     "data": {
      "text/plain": [
       "array([0.06005739, 0.03931946, 0.04334721, 0.04840943, 0.00654469,\n",
       "       0.01849529, 0.04616847, 0.01635267, 0.0489085 , 0.05864386,\n",
       "       0.06538381, 0.05895683, 0.01470298, 0.01317461, 0.01260268,\n",
       "       0.0765169 , 0.01545526, 0.04856342, 0.04251872, 0.01174214,\n",
       "       0.00337605, 0.04223154, 0.08741834, 0.00465903, 0.06042072,\n",
       "       0.05603   ])"
      ]
     },
     "execution_count": 64,
     "metadata": {},
     "output_type": "execute_result"
    }
   ],
   "source": [
    "weights"
   ]
  },
  {
   "cell_type": "code",
   "execution_count": 65,
   "metadata": {},
   "outputs": [],
   "source": [
    "log_returns = np.log(pf_data / pf_data.shift(1)) #taxa de retorno log."
   ]
  },
  {
   "cell_type": "code",
   "execution_count": 66,
   "metadata": {},
   "outputs": [
    {
     "data": {
      "text/plain": [
       "0.20875933788195752"
      ]
     },
     "execution_count": 66,
     "metadata": {},
     "output_type": "execute_result"
    }
   ],
   "source": [
    "#Retorno esperado\n",
    "retorno = np.sum(weights * log_returns.mean()) * 250 #soma do produto da média dos retornos log. anualizados pelos respectivos pesos.\n",
    "retorno"
   ]
  },
  {
   "cell_type": "code",
   "execution_count": 67,
   "metadata": {},
   "outputs": [
    {
     "data": {
      "text/plain": [
       "0.05282241317947177"
      ]
     },
     "execution_count": 67,
     "metadata": {},
     "output_type": "execute_result"
    }
   ],
   "source": [
    "#Variância\n",
    "np.dot(weights.T, np.dot(log_returns.cov() * 250, weights))"
   ]
  },
  {
   "cell_type": "code",
   "execution_count": 68,
   "metadata": {},
   "outputs": [
    {
     "data": {
      "text/plain": [
       "0.22983127110876747"
      ]
     },
     "execution_count": 68,
     "metadata": {},
     "output_type": "execute_result"
    }
   ],
   "source": [
    "#Volatilidade\n",
    "volatilidade = np.sqrt(np.dot(weights.T, np.dot(log_returns.cov() * 250, weights)))\n",
    "volatilidade"
   ]
  },
  {
   "cell_type": "code",
   "execution_count": 69,
   "metadata": {},
   "outputs": [
    {
     "data": {
      "text/plain": [
       "0.4479779334868321"
      ]
     },
     "execution_count": 69,
     "metadata": {},
     "output_type": "execute_result"
    }
   ],
   "source": [
    "#Sharpe\n",
    "sharpe = (retorno - 0.1058) / volatilidade\n",
    "sharpe"
   ]
  },
  {
   "cell_type": "markdown",
   "metadata": {},
   "source": [
    "# Resultados algoritmo de força bruta - 2017 até 2019"
   ]
  },
  {
   "cell_type": "code",
   "execution_count": 71,
   "metadata": {},
   "outputs": [],
   "source": [
    "assets_bruto = ['B3SA3.SA','BBSE3.SA', 'BRKM5.SA', 'BTOW3.SA',  'CCRO3.SA','CVCB3.SA','CYRE3.SA', 'EGIE3.SA','ELET3.SA', 'ELET6.SA', 'FLRY3.SA','HYPE3.SA', 'IGTA3.SA', 'ITUB4.SA','JBSS3.SA', 'MRVE3.SA', 'PETR4.SA', 'QUAL3.SA','RADL3.SA', 'SUZB3.SA', 'VALE3.SA', 'VIVT4.SA']\n",
    "pf_data_bruto = pd.DataFrame()\n",
    "\n",
    "for a in assets_bruto:\n",
    "    pf_data_bruto[a] = wb.DataReader(a, data_source = 'yahoo', start='2017-1', end='2019-1')['Adj Close']"
   ]
  },
  {
   "cell_type": "code",
   "execution_count": 73,
   "metadata": {},
   "outputs": [],
   "source": [
    "weights_bruto = np.array([0.03097188, 0.05933219, 0.04483513, 0.03434216, 0.00651261, 0.02199497, 0.05210917, 0.07546384, 0.07051739, 0.08712349, 0.07619012, 0.06529734, 0.01497437, 0.01882258, 0.00295704, 0.05442642, 0.07266825, 0.03824889, 0.02968655, 0.04763986, 0.04770418, 0.04818158])"
   ]
  },
  {
   "cell_type": "code",
   "execution_count": 76,
   "metadata": {},
   "outputs": [],
   "source": [
    "log_returns_bruto = np.log(pf_data_bruto / pf_data_bruto.shift(1)) #taxa de retorno log."
   ]
  },
  {
   "cell_type": "code",
   "execution_count": 77,
   "metadata": {},
   "outputs": [
    {
     "data": {
      "text/plain": [
       "0.20558999220595783"
      ]
     },
     "execution_count": 77,
     "metadata": {},
     "output_type": "execute_result"
    }
   ],
   "source": [
    "#Retorno esperado\n",
    "retorno_bruto = np.sum(weights_bruto * log_returns_bruto.mean()) * 250 #soma do produto da média dos retornos log. anualizados pelos respectivos pesos.\n",
    "retorno_bruto"
   ]
  },
  {
   "cell_type": "code",
   "execution_count": 78,
   "metadata": {},
   "outputs": [
    {
     "data": {
      "text/plain": [
       "0.219387098456399"
      ]
     },
     "execution_count": 78,
     "metadata": {},
     "output_type": "execute_result"
    }
   ],
   "source": [
    "#Volatilidade\n",
    "volatilidade_bruto = np.sqrt(np.dot(weights_bruto.T, np.dot(log_returns_bruto.cov() * 250, weights_bruto)))\n",
    "volatilidade_bruto"
   ]
  },
  {
   "cell_type": "code",
   "execution_count": 79,
   "metadata": {},
   "outputs": [
    {
     "data": {
      "text/plain": [
       "0.4548580700874263"
      ]
     },
     "execution_count": 79,
     "metadata": {},
     "output_type": "execute_result"
    }
   ],
   "source": [
    "#Sharpe\n",
    "sharpe_bruto = (retorno_bruto - 0.1058) / volatilidade_bruto\n",
    "sharpe_bruto"
   ]
  },
  {
   "cell_type": "markdown",
   "metadata": {},
   "source": [
    "# Resultados Indicadores merc. financeiro - 2015 - 2017 / 2017 até 2019"
   ]
  },
  {
   "cell_type": "code",
   "execution_count": 195,
   "metadata": {},
   "outputs": [],
   "source": [
    "assets = ['^GSPC']\n",
    "pf_data = pd.DataFrame()\n",
    "\n",
    "for a in assets:\n",
    "    pf_data[a] = wb.DataReader(a, data_source = 'yahoo', start='2017-1', end='2019-1')['Adj Close']"
   ]
  },
  {
   "cell_type": "code",
   "execution_count": 196,
   "metadata": {},
   "outputs": [],
   "source": [
    "weights = np.array([1]) "
   ]
  },
  {
   "cell_type": "code",
   "execution_count": 197,
   "metadata": {},
   "outputs": [
    {
     "data": {
      "text/plain": [
       "^GSPC    0.052734\n",
       "dtype: float64"
      ]
     },
     "execution_count": 197,
     "metadata": {},
     "output_type": "execute_result"
    }
   ],
   "source": [
    "retorno2 = np.log(pf_data / pf_data.shift(1))\n",
    "\n",
    "retorno_anual = retorno2.mean() * 250 #retorno médio de cada ação anual\n",
    "retorno_anual"
   ]
  },
  {
   "cell_type": "code",
   "execution_count": 198,
   "metadata": {},
   "outputs": [
    {
     "data": {
      "text/plain": [
       "0.12927546330699805"
      ]
     },
     "execution_count": 198,
     "metadata": {},
     "output_type": "execute_result"
    }
   ],
   "source": [
    "#Volatilidade\n",
    "volatilidade = np.sqrt(np.dot(weights.T, np.dot(retorno2.cov() * 250, weights)))\n",
    "volatilidade"
   ]
  },
  {
   "cell_type": "code",
   "execution_count": 199,
   "metadata": {},
   "outputs": [
    {
     "data": {
      "text/plain": [
       "^GSPC   -0.410485\n",
       "dtype: float64"
      ]
     },
     "execution_count": 199,
     "metadata": {},
     "output_type": "execute_result"
    }
   ],
   "source": [
    "#Sharpe\n",
    "sharpe = (retorno_anual - 0.1058) / volatilidade\n",
    "sharpe"
   ]
  },
  {
   "cell_type": "code",
   "execution_count": null,
   "metadata": {},
   "outputs": [],
   "source": []
  }
 ],
 "metadata": {
  "kernelspec": {
   "display_name": "Python 3",
   "language": "python",
   "name": "python3"
  },
  "language_info": {
   "codemirror_mode": {
    "name": "ipython",
    "version": 3
   },
   "file_extension": ".py",
   "mimetype": "text/x-python",
   "name": "python",
   "nbconvert_exporter": "python",
   "pygments_lexer": "ipython3",
   "version": "3.7.3"
  }
 },
 "nbformat": 4,
 "nbformat_minor": 2
}
